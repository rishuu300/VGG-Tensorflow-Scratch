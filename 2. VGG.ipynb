{
 "cells": [
  {
   "cell_type": "code",
   "execution_count": 3,
   "metadata": {},
   "outputs": [],
   "source": [
    "import os\n",
    "import numpy as np\n",
    "from tensorflow import keras\n",
    "from keras.models import Sequential # type: ignore\n",
    "from keras.layers import Dense, Conv2D, MaxPool2D, Flatten # type: ignore\n",
    "from tensorflow.keras.preprocessing.image import ImageDataGenerator # type: ignore"
   ]
  },
  {
   "cell_type": "code",
   "execution_count": 4,
   "metadata": {},
   "outputs": [
    {
     "name": "stderr",
     "output_type": "stream",
     "text": [
      "c:\\Users\\91808\\AppData\\Local\\Programs\\Python\\Python312\\Lib\\site-packages\\keras\\src\\layers\\convolutional\\base_conv.py:107: UserWarning: Do not pass an `input_shape`/`input_dim` argument to a layer. When using Sequential models, prefer using an `Input(shape)` object as the first layer in the model instead.\n",
      "  super().__init__(activity_regularizer=activity_regularizer, **kwargs)\n"
     ]
    },
    {
     "data": {
      "text/html": [
       "<pre style=\"white-space:pre;overflow-x:auto;line-height:normal;font-family:Menlo,'DejaVu Sans Mono',consolas,'Courier New',monospace\"><span style=\"font-weight: bold\">Model: \"sequential\"</span>\n",
       "</pre>\n"
      ],
      "text/plain": [
       "\u001b[1mModel: \"sequential\"\u001b[0m\n"
      ]
     },
     "metadata": {},
     "output_type": "display_data"
    },
    {
     "data": {
      "text/html": [
       "<pre style=\"white-space:pre;overflow-x:auto;line-height:normal;font-family:Menlo,'DejaVu Sans Mono',consolas,'Courier New',monospace\">┏━━━━━━━━━━━━━━━━━━━━━━━━━━━━━━━━━┳━━━━━━━━━━━━━━━━━━━━━━━━┳━━━━━━━━━━━━━━━┓\n",
       "┃<span style=\"font-weight: bold\"> Layer (type)                    </span>┃<span style=\"font-weight: bold\"> Output Shape           </span>┃<span style=\"font-weight: bold\">       Param # </span>┃\n",
       "┡━━━━━━━━━━━━━━━━━━━━━━━━━━━━━━━━━╇━━━━━━━━━━━━━━━━━━━━━━━━╇━━━━━━━━━━━━━━━┩\n",
       "│ conv2d (<span style=\"color: #0087ff; text-decoration-color: #0087ff\">Conv2D</span>)                 │ (<span style=\"color: #00d7ff; text-decoration-color: #00d7ff\">None</span>, <span style=\"color: #00af00; text-decoration-color: #00af00\">224</span>, <span style=\"color: #00af00; text-decoration-color: #00af00\">224</span>, <span style=\"color: #00af00; text-decoration-color: #00af00\">64</span>)   │         <span style=\"color: #00af00; text-decoration-color: #00af00\">1,792</span> │\n",
       "├─────────────────────────────────┼────────────────────────┼───────────────┤\n",
       "│ conv2d_1 (<span style=\"color: #0087ff; text-decoration-color: #0087ff\">Conv2D</span>)               │ (<span style=\"color: #00d7ff; text-decoration-color: #00d7ff\">None</span>, <span style=\"color: #00af00; text-decoration-color: #00af00\">224</span>, <span style=\"color: #00af00; text-decoration-color: #00af00\">224</span>, <span style=\"color: #00af00; text-decoration-color: #00af00\">64</span>)   │        <span style=\"color: #00af00; text-decoration-color: #00af00\">36,928</span> │\n",
       "├─────────────────────────────────┼────────────────────────┼───────────────┤\n",
       "│ max_pooling2d (<span style=\"color: #0087ff; text-decoration-color: #0087ff\">MaxPooling2D</span>)    │ (<span style=\"color: #00d7ff; text-decoration-color: #00d7ff\">None</span>, <span style=\"color: #00af00; text-decoration-color: #00af00\">112</span>, <span style=\"color: #00af00; text-decoration-color: #00af00\">112</span>, <span style=\"color: #00af00; text-decoration-color: #00af00\">64</span>)   │             <span style=\"color: #00af00; text-decoration-color: #00af00\">0</span> │\n",
       "├─────────────────────────────────┼────────────────────────┼───────────────┤\n",
       "│ conv2d_2 (<span style=\"color: #0087ff; text-decoration-color: #0087ff\">Conv2D</span>)               │ (<span style=\"color: #00d7ff; text-decoration-color: #00d7ff\">None</span>, <span style=\"color: #00af00; text-decoration-color: #00af00\">112</span>, <span style=\"color: #00af00; text-decoration-color: #00af00\">112</span>, <span style=\"color: #00af00; text-decoration-color: #00af00\">128</span>)  │        <span style=\"color: #00af00; text-decoration-color: #00af00\">73,856</span> │\n",
       "├─────────────────────────────────┼────────────────────────┼───────────────┤\n",
       "│ conv2d_3 (<span style=\"color: #0087ff; text-decoration-color: #0087ff\">Conv2D</span>)               │ (<span style=\"color: #00d7ff; text-decoration-color: #00d7ff\">None</span>, <span style=\"color: #00af00; text-decoration-color: #00af00\">112</span>, <span style=\"color: #00af00; text-decoration-color: #00af00\">112</span>, <span style=\"color: #00af00; text-decoration-color: #00af00\">128</span>)  │       <span style=\"color: #00af00; text-decoration-color: #00af00\">147,584</span> │\n",
       "├─────────────────────────────────┼────────────────────────┼───────────────┤\n",
       "│ max_pooling2d_1 (<span style=\"color: #0087ff; text-decoration-color: #0087ff\">MaxPooling2D</span>)  │ (<span style=\"color: #00d7ff; text-decoration-color: #00d7ff\">None</span>, <span style=\"color: #00af00; text-decoration-color: #00af00\">56</span>, <span style=\"color: #00af00; text-decoration-color: #00af00\">56</span>, <span style=\"color: #00af00; text-decoration-color: #00af00\">128</span>)    │             <span style=\"color: #00af00; text-decoration-color: #00af00\">0</span> │\n",
       "├─────────────────────────────────┼────────────────────────┼───────────────┤\n",
       "│ conv2d_4 (<span style=\"color: #0087ff; text-decoration-color: #0087ff\">Conv2D</span>)               │ (<span style=\"color: #00d7ff; text-decoration-color: #00d7ff\">None</span>, <span style=\"color: #00af00; text-decoration-color: #00af00\">56</span>, <span style=\"color: #00af00; text-decoration-color: #00af00\">56</span>, <span style=\"color: #00af00; text-decoration-color: #00af00\">256</span>)    │       <span style=\"color: #00af00; text-decoration-color: #00af00\">295,168</span> │\n",
       "├─────────────────────────────────┼────────────────────────┼───────────────┤\n",
       "│ conv2d_5 (<span style=\"color: #0087ff; text-decoration-color: #0087ff\">Conv2D</span>)               │ (<span style=\"color: #00d7ff; text-decoration-color: #00d7ff\">None</span>, <span style=\"color: #00af00; text-decoration-color: #00af00\">56</span>, <span style=\"color: #00af00; text-decoration-color: #00af00\">56</span>, <span style=\"color: #00af00; text-decoration-color: #00af00\">256</span>)    │       <span style=\"color: #00af00; text-decoration-color: #00af00\">590,080</span> │\n",
       "├─────────────────────────────────┼────────────────────────┼───────────────┤\n",
       "│ conv2d_6 (<span style=\"color: #0087ff; text-decoration-color: #0087ff\">Conv2D</span>)               │ (<span style=\"color: #00d7ff; text-decoration-color: #00d7ff\">None</span>, <span style=\"color: #00af00; text-decoration-color: #00af00\">56</span>, <span style=\"color: #00af00; text-decoration-color: #00af00\">56</span>, <span style=\"color: #00af00; text-decoration-color: #00af00\">256</span>)    │       <span style=\"color: #00af00; text-decoration-color: #00af00\">590,080</span> │\n",
       "├─────────────────────────────────┼────────────────────────┼───────────────┤\n",
       "│ max_pooling2d_2 (<span style=\"color: #0087ff; text-decoration-color: #0087ff\">MaxPooling2D</span>)  │ (<span style=\"color: #00d7ff; text-decoration-color: #00d7ff\">None</span>, <span style=\"color: #00af00; text-decoration-color: #00af00\">28</span>, <span style=\"color: #00af00; text-decoration-color: #00af00\">28</span>, <span style=\"color: #00af00; text-decoration-color: #00af00\">256</span>)    │             <span style=\"color: #00af00; text-decoration-color: #00af00\">0</span> │\n",
       "├─────────────────────────────────┼────────────────────────┼───────────────┤\n",
       "│ conv2d_7 (<span style=\"color: #0087ff; text-decoration-color: #0087ff\">Conv2D</span>)               │ (<span style=\"color: #00d7ff; text-decoration-color: #00d7ff\">None</span>, <span style=\"color: #00af00; text-decoration-color: #00af00\">28</span>, <span style=\"color: #00af00; text-decoration-color: #00af00\">28</span>, <span style=\"color: #00af00; text-decoration-color: #00af00\">512</span>)    │     <span style=\"color: #00af00; text-decoration-color: #00af00\">1,180,160</span> │\n",
       "├─────────────────────────────────┼────────────────────────┼───────────────┤\n",
       "│ conv2d_8 (<span style=\"color: #0087ff; text-decoration-color: #0087ff\">Conv2D</span>)               │ (<span style=\"color: #00d7ff; text-decoration-color: #00d7ff\">None</span>, <span style=\"color: #00af00; text-decoration-color: #00af00\">28</span>, <span style=\"color: #00af00; text-decoration-color: #00af00\">28</span>, <span style=\"color: #00af00; text-decoration-color: #00af00\">512</span>)    │     <span style=\"color: #00af00; text-decoration-color: #00af00\">2,359,808</span> │\n",
       "├─────────────────────────────────┼────────────────────────┼───────────────┤\n",
       "│ conv2d_9 (<span style=\"color: #0087ff; text-decoration-color: #0087ff\">Conv2D</span>)               │ (<span style=\"color: #00d7ff; text-decoration-color: #00d7ff\">None</span>, <span style=\"color: #00af00; text-decoration-color: #00af00\">28</span>, <span style=\"color: #00af00; text-decoration-color: #00af00\">28</span>, <span style=\"color: #00af00; text-decoration-color: #00af00\">512</span>)    │     <span style=\"color: #00af00; text-decoration-color: #00af00\">2,359,808</span> │\n",
       "├─────────────────────────────────┼────────────────────────┼───────────────┤\n",
       "│ max_pooling2d_3 (<span style=\"color: #0087ff; text-decoration-color: #0087ff\">MaxPooling2D</span>)  │ (<span style=\"color: #00d7ff; text-decoration-color: #00d7ff\">None</span>, <span style=\"color: #00af00; text-decoration-color: #00af00\">14</span>, <span style=\"color: #00af00; text-decoration-color: #00af00\">14</span>, <span style=\"color: #00af00; text-decoration-color: #00af00\">512</span>)    │             <span style=\"color: #00af00; text-decoration-color: #00af00\">0</span> │\n",
       "├─────────────────────────────────┼────────────────────────┼───────────────┤\n",
       "│ conv2d_10 (<span style=\"color: #0087ff; text-decoration-color: #0087ff\">Conv2D</span>)              │ (<span style=\"color: #00d7ff; text-decoration-color: #00d7ff\">None</span>, <span style=\"color: #00af00; text-decoration-color: #00af00\">14</span>, <span style=\"color: #00af00; text-decoration-color: #00af00\">14</span>, <span style=\"color: #00af00; text-decoration-color: #00af00\">512</span>)    │     <span style=\"color: #00af00; text-decoration-color: #00af00\">2,359,808</span> │\n",
       "├─────────────────────────────────┼────────────────────────┼───────────────┤\n",
       "│ conv2d_11 (<span style=\"color: #0087ff; text-decoration-color: #0087ff\">Conv2D</span>)              │ (<span style=\"color: #00d7ff; text-decoration-color: #00d7ff\">None</span>, <span style=\"color: #00af00; text-decoration-color: #00af00\">14</span>, <span style=\"color: #00af00; text-decoration-color: #00af00\">14</span>, <span style=\"color: #00af00; text-decoration-color: #00af00\">512</span>)    │     <span style=\"color: #00af00; text-decoration-color: #00af00\">2,359,808</span> │\n",
       "├─────────────────────────────────┼────────────────────────┼───────────────┤\n",
       "│ conv2d_12 (<span style=\"color: #0087ff; text-decoration-color: #0087ff\">Conv2D</span>)              │ (<span style=\"color: #00d7ff; text-decoration-color: #00d7ff\">None</span>, <span style=\"color: #00af00; text-decoration-color: #00af00\">14</span>, <span style=\"color: #00af00; text-decoration-color: #00af00\">14</span>, <span style=\"color: #00af00; text-decoration-color: #00af00\">512</span>)    │     <span style=\"color: #00af00; text-decoration-color: #00af00\">2,359,808</span> │\n",
       "├─────────────────────────────────┼────────────────────────┼───────────────┤\n",
       "│ max_pooling2d_4 (<span style=\"color: #0087ff; text-decoration-color: #0087ff\">MaxPooling2D</span>)  │ (<span style=\"color: #00d7ff; text-decoration-color: #00d7ff\">None</span>, <span style=\"color: #00af00; text-decoration-color: #00af00\">7</span>, <span style=\"color: #00af00; text-decoration-color: #00af00\">7</span>, <span style=\"color: #00af00; text-decoration-color: #00af00\">512</span>)      │             <span style=\"color: #00af00; text-decoration-color: #00af00\">0</span> │\n",
       "├─────────────────────────────────┼────────────────────────┼───────────────┤\n",
       "│ flatten (<span style=\"color: #0087ff; text-decoration-color: #0087ff\">Flatten</span>)               │ (<span style=\"color: #00d7ff; text-decoration-color: #00d7ff\">None</span>, <span style=\"color: #00af00; text-decoration-color: #00af00\">25088</span>)          │             <span style=\"color: #00af00; text-decoration-color: #00af00\">0</span> │\n",
       "├─────────────────────────────────┼────────────────────────┼───────────────┤\n",
       "│ dense (<span style=\"color: #0087ff; text-decoration-color: #0087ff\">Dense</span>)                   │ (<span style=\"color: #00d7ff; text-decoration-color: #00d7ff\">None</span>, <span style=\"color: #00af00; text-decoration-color: #00af00\">4096</span>)           │   <span style=\"color: #00af00; text-decoration-color: #00af00\">102,764,544</span> │\n",
       "├─────────────────────────────────┼────────────────────────┼───────────────┤\n",
       "│ dense_1 (<span style=\"color: #0087ff; text-decoration-color: #0087ff\">Dense</span>)                 │ (<span style=\"color: #00d7ff; text-decoration-color: #00d7ff\">None</span>, <span style=\"color: #00af00; text-decoration-color: #00af00\">4096</span>)           │    <span style=\"color: #00af00; text-decoration-color: #00af00\">16,781,312</span> │\n",
       "├─────────────────────────────────┼────────────────────────┼───────────────┤\n",
       "│ dense_2 (<span style=\"color: #0087ff; text-decoration-color: #0087ff\">Dense</span>)                 │ (<span style=\"color: #00d7ff; text-decoration-color: #00d7ff\">None</span>, <span style=\"color: #00af00; text-decoration-color: #00af00\">17</span>)             │        <span style=\"color: #00af00; text-decoration-color: #00af00\">69,649</span> │\n",
       "└─────────────────────────────────┴────────────────────────┴───────────────┘\n",
       "</pre>\n"
      ],
      "text/plain": [
       "┏━━━━━━━━━━━━━━━━━━━━━━━━━━━━━━━━━┳━━━━━━━━━━━━━━━━━━━━━━━━┳━━━━━━━━━━━━━━━┓\n",
       "┃\u001b[1m \u001b[0m\u001b[1mLayer (type)                   \u001b[0m\u001b[1m \u001b[0m┃\u001b[1m \u001b[0m\u001b[1mOutput Shape          \u001b[0m\u001b[1m \u001b[0m┃\u001b[1m \u001b[0m\u001b[1m      Param #\u001b[0m\u001b[1m \u001b[0m┃\n",
       "┡━━━━━━━━━━━━━━━━━━━━━━━━━━━━━━━━━╇━━━━━━━━━━━━━━━━━━━━━━━━╇━━━━━━━━━━━━━━━┩\n",
       "│ conv2d (\u001b[38;5;33mConv2D\u001b[0m)                 │ (\u001b[38;5;45mNone\u001b[0m, \u001b[38;5;34m224\u001b[0m, \u001b[38;5;34m224\u001b[0m, \u001b[38;5;34m64\u001b[0m)   │         \u001b[38;5;34m1,792\u001b[0m │\n",
       "├─────────────────────────────────┼────────────────────────┼───────────────┤\n",
       "│ conv2d_1 (\u001b[38;5;33mConv2D\u001b[0m)               │ (\u001b[38;5;45mNone\u001b[0m, \u001b[38;5;34m224\u001b[0m, \u001b[38;5;34m224\u001b[0m, \u001b[38;5;34m64\u001b[0m)   │        \u001b[38;5;34m36,928\u001b[0m │\n",
       "├─────────────────────────────────┼────────────────────────┼───────────────┤\n",
       "│ max_pooling2d (\u001b[38;5;33mMaxPooling2D\u001b[0m)    │ (\u001b[38;5;45mNone\u001b[0m, \u001b[38;5;34m112\u001b[0m, \u001b[38;5;34m112\u001b[0m, \u001b[38;5;34m64\u001b[0m)   │             \u001b[38;5;34m0\u001b[0m │\n",
       "├─────────────────────────────────┼────────────────────────┼───────────────┤\n",
       "│ conv2d_2 (\u001b[38;5;33mConv2D\u001b[0m)               │ (\u001b[38;5;45mNone\u001b[0m, \u001b[38;5;34m112\u001b[0m, \u001b[38;5;34m112\u001b[0m, \u001b[38;5;34m128\u001b[0m)  │        \u001b[38;5;34m73,856\u001b[0m │\n",
       "├─────────────────────────────────┼────────────────────────┼───────────────┤\n",
       "│ conv2d_3 (\u001b[38;5;33mConv2D\u001b[0m)               │ (\u001b[38;5;45mNone\u001b[0m, \u001b[38;5;34m112\u001b[0m, \u001b[38;5;34m112\u001b[0m, \u001b[38;5;34m128\u001b[0m)  │       \u001b[38;5;34m147,584\u001b[0m │\n",
       "├─────────────────────────────────┼────────────────────────┼───────────────┤\n",
       "│ max_pooling2d_1 (\u001b[38;5;33mMaxPooling2D\u001b[0m)  │ (\u001b[38;5;45mNone\u001b[0m, \u001b[38;5;34m56\u001b[0m, \u001b[38;5;34m56\u001b[0m, \u001b[38;5;34m128\u001b[0m)    │             \u001b[38;5;34m0\u001b[0m │\n",
       "├─────────────────────────────────┼────────────────────────┼───────────────┤\n",
       "│ conv2d_4 (\u001b[38;5;33mConv2D\u001b[0m)               │ (\u001b[38;5;45mNone\u001b[0m, \u001b[38;5;34m56\u001b[0m, \u001b[38;5;34m56\u001b[0m, \u001b[38;5;34m256\u001b[0m)    │       \u001b[38;5;34m295,168\u001b[0m │\n",
       "├─────────────────────────────────┼────────────────────────┼───────────────┤\n",
       "│ conv2d_5 (\u001b[38;5;33mConv2D\u001b[0m)               │ (\u001b[38;5;45mNone\u001b[0m, \u001b[38;5;34m56\u001b[0m, \u001b[38;5;34m56\u001b[0m, \u001b[38;5;34m256\u001b[0m)    │       \u001b[38;5;34m590,080\u001b[0m │\n",
       "├─────────────────────────────────┼────────────────────────┼───────────────┤\n",
       "│ conv2d_6 (\u001b[38;5;33mConv2D\u001b[0m)               │ (\u001b[38;5;45mNone\u001b[0m, \u001b[38;5;34m56\u001b[0m, \u001b[38;5;34m56\u001b[0m, \u001b[38;5;34m256\u001b[0m)    │       \u001b[38;5;34m590,080\u001b[0m │\n",
       "├─────────────────────────────────┼────────────────────────┼───────────────┤\n",
       "│ max_pooling2d_2 (\u001b[38;5;33mMaxPooling2D\u001b[0m)  │ (\u001b[38;5;45mNone\u001b[0m, \u001b[38;5;34m28\u001b[0m, \u001b[38;5;34m28\u001b[0m, \u001b[38;5;34m256\u001b[0m)    │             \u001b[38;5;34m0\u001b[0m │\n",
       "├─────────────────────────────────┼────────────────────────┼───────────────┤\n",
       "│ conv2d_7 (\u001b[38;5;33mConv2D\u001b[0m)               │ (\u001b[38;5;45mNone\u001b[0m, \u001b[38;5;34m28\u001b[0m, \u001b[38;5;34m28\u001b[0m, \u001b[38;5;34m512\u001b[0m)    │     \u001b[38;5;34m1,180,160\u001b[0m │\n",
       "├─────────────────────────────────┼────────────────────────┼───────────────┤\n",
       "│ conv2d_8 (\u001b[38;5;33mConv2D\u001b[0m)               │ (\u001b[38;5;45mNone\u001b[0m, \u001b[38;5;34m28\u001b[0m, \u001b[38;5;34m28\u001b[0m, \u001b[38;5;34m512\u001b[0m)    │     \u001b[38;5;34m2,359,808\u001b[0m │\n",
       "├─────────────────────────────────┼────────────────────────┼───────────────┤\n",
       "│ conv2d_9 (\u001b[38;5;33mConv2D\u001b[0m)               │ (\u001b[38;5;45mNone\u001b[0m, \u001b[38;5;34m28\u001b[0m, \u001b[38;5;34m28\u001b[0m, \u001b[38;5;34m512\u001b[0m)    │     \u001b[38;5;34m2,359,808\u001b[0m │\n",
       "├─────────────────────────────────┼────────────────────────┼───────────────┤\n",
       "│ max_pooling2d_3 (\u001b[38;5;33mMaxPooling2D\u001b[0m)  │ (\u001b[38;5;45mNone\u001b[0m, \u001b[38;5;34m14\u001b[0m, \u001b[38;5;34m14\u001b[0m, \u001b[38;5;34m512\u001b[0m)    │             \u001b[38;5;34m0\u001b[0m │\n",
       "├─────────────────────────────────┼────────────────────────┼───────────────┤\n",
       "│ conv2d_10 (\u001b[38;5;33mConv2D\u001b[0m)              │ (\u001b[38;5;45mNone\u001b[0m, \u001b[38;5;34m14\u001b[0m, \u001b[38;5;34m14\u001b[0m, \u001b[38;5;34m512\u001b[0m)    │     \u001b[38;5;34m2,359,808\u001b[0m │\n",
       "├─────────────────────────────────┼────────────────────────┼───────────────┤\n",
       "│ conv2d_11 (\u001b[38;5;33mConv2D\u001b[0m)              │ (\u001b[38;5;45mNone\u001b[0m, \u001b[38;5;34m14\u001b[0m, \u001b[38;5;34m14\u001b[0m, \u001b[38;5;34m512\u001b[0m)    │     \u001b[38;5;34m2,359,808\u001b[0m │\n",
       "├─────────────────────────────────┼────────────────────────┼───────────────┤\n",
       "│ conv2d_12 (\u001b[38;5;33mConv2D\u001b[0m)              │ (\u001b[38;5;45mNone\u001b[0m, \u001b[38;5;34m14\u001b[0m, \u001b[38;5;34m14\u001b[0m, \u001b[38;5;34m512\u001b[0m)    │     \u001b[38;5;34m2,359,808\u001b[0m │\n",
       "├─────────────────────────────────┼────────────────────────┼───────────────┤\n",
       "│ max_pooling2d_4 (\u001b[38;5;33mMaxPooling2D\u001b[0m)  │ (\u001b[38;5;45mNone\u001b[0m, \u001b[38;5;34m7\u001b[0m, \u001b[38;5;34m7\u001b[0m, \u001b[38;5;34m512\u001b[0m)      │             \u001b[38;5;34m0\u001b[0m │\n",
       "├─────────────────────────────────┼────────────────────────┼───────────────┤\n",
       "│ flatten (\u001b[38;5;33mFlatten\u001b[0m)               │ (\u001b[38;5;45mNone\u001b[0m, \u001b[38;5;34m25088\u001b[0m)          │             \u001b[38;5;34m0\u001b[0m │\n",
       "├─────────────────────────────────┼────────────────────────┼───────────────┤\n",
       "│ dense (\u001b[38;5;33mDense\u001b[0m)                   │ (\u001b[38;5;45mNone\u001b[0m, \u001b[38;5;34m4096\u001b[0m)           │   \u001b[38;5;34m102,764,544\u001b[0m │\n",
       "├─────────────────────────────────┼────────────────────────┼───────────────┤\n",
       "│ dense_1 (\u001b[38;5;33mDense\u001b[0m)                 │ (\u001b[38;5;45mNone\u001b[0m, \u001b[38;5;34m4096\u001b[0m)           │    \u001b[38;5;34m16,781,312\u001b[0m │\n",
       "├─────────────────────────────────┼────────────────────────┼───────────────┤\n",
       "│ dense_2 (\u001b[38;5;33mDense\u001b[0m)                 │ (\u001b[38;5;45mNone\u001b[0m, \u001b[38;5;34m17\u001b[0m)             │        \u001b[38;5;34m69,649\u001b[0m │\n",
       "└─────────────────────────────────┴────────────────────────┴───────────────┘\n"
      ]
     },
     "metadata": {},
     "output_type": "display_data"
    },
    {
     "data": {
      "text/html": [
       "<pre style=\"white-space:pre;overflow-x:auto;line-height:normal;font-family:Menlo,'DejaVu Sans Mono',consolas,'Courier New',monospace\"><span style=\"font-weight: bold\"> Total params: </span><span style=\"color: #00af00; text-decoration-color: #00af00\">134,330,193</span> (512.43 MB)\n",
       "</pre>\n"
      ],
      "text/plain": [
       "\u001b[1m Total params: \u001b[0m\u001b[38;5;34m134,330,193\u001b[0m (512.43 MB)\n"
      ]
     },
     "metadata": {},
     "output_type": "display_data"
    },
    {
     "data": {
      "text/html": [
       "<pre style=\"white-space:pre;overflow-x:auto;line-height:normal;font-family:Menlo,'DejaVu Sans Mono',consolas,'Courier New',monospace\"><span style=\"font-weight: bold\"> Trainable params: </span><span style=\"color: #00af00; text-decoration-color: #00af00\">134,330,193</span> (512.43 MB)\n",
       "</pre>\n"
      ],
      "text/plain": [
       "\u001b[1m Trainable params: \u001b[0m\u001b[38;5;34m134,330,193\u001b[0m (512.43 MB)\n"
      ]
     },
     "metadata": {},
     "output_type": "display_data"
    },
    {
     "data": {
      "text/html": [
       "<pre style=\"white-space:pre;overflow-x:auto;line-height:normal;font-family:Menlo,'DejaVu Sans Mono',consolas,'Courier New',monospace\"><span style=\"font-weight: bold\"> Non-trainable params: </span><span style=\"color: #00af00; text-decoration-color: #00af00\">0</span> (0.00 B)\n",
       "</pre>\n"
      ],
      "text/plain": [
       "\u001b[1m Non-trainable params: \u001b[0m\u001b[38;5;34m0\u001b[0m (0.00 B)\n"
      ]
     },
     "metadata": {},
     "output_type": "display_data"
    }
   ],
   "source": [
    "from tensorflow.keras.models import Sequential # type: ignore\n",
    "from tensorflow.keras.layers import Conv2D, MaxPool2D, Flatten, Dense # type: ignore\n",
    "\n",
    "model = Sequential()\n",
    "\n",
    "model.add(Conv2D(input_shape=(224, 224, 3), filters=64, kernel_size=(3,3), padding='same', activation='relu'))\n",
    "model.add(Conv2D(filters=64, kernel_size=(3,3), padding='same', activation='relu'))\n",
    "model.add(MaxPool2D(pool_size=(2,2), strides=(2,2)))\n",
    "\n",
    "model.add(Conv2D(filters=128, kernel_size=(3,3), padding='same', activation='relu'))\n",
    "model.add(Conv2D(filters=128, kernel_size=(3,3), padding='same', activation='relu'))\n",
    "model.add(MaxPool2D(pool_size=(2,2), strides=(2,2)))\n",
    "\n",
    "model.add(Conv2D(filters=256, kernel_size=(3,3), padding='same', activation='relu'))\n",
    "model.add(Conv2D(filters=256, kernel_size=(3,3), padding='same', activation='relu'))\n",
    "model.add(Conv2D(filters=256, kernel_size=(3,3), padding='same', activation='relu'))\n",
    "model.add(MaxPool2D(pool_size=(2,2), strides=(2,2)))\n",
    "\n",
    "model.add(Conv2D(filters=512, kernel_size=(3,3), padding=\"same\", activation=\"relu\"))\n",
    "model.add(Conv2D(filters=512, kernel_size=(3,3), padding=\"same\", activation=\"relu\"))\n",
    "model.add(Conv2D(filters=512, kernel_size=(3,3), padding=\"same\", activation=\"relu\"))\n",
    "model.add(MaxPool2D(pool_size=(2,2), strides=(2,2)))\n",
    "\n",
    "model.add(Conv2D(filters=512, kernel_size=(3,3), padding=\"same\", activation=\"relu\"))\n",
    "model.add(Conv2D(filters=512, kernel_size=(3,3), padding=\"same\", activation=\"relu\"))\n",
    "model.add(Conv2D(filters=512, kernel_size=(3,3), padding=\"same\", activation=\"relu\"))\n",
    "model.add(MaxPool2D(pool_size=(2,2), strides=(2,2)))\n",
    "\n",
    "model.add(Flatten())\n",
    "model.add(Dense(units=4096, activation='relu'))\n",
    "model.add(Dense(units=4096, activation='relu'))\n",
    "model.add(Dense(units=17, activation='softmax'))\n",
    "\n",
    "model.summary()\n"
   ]
  },
  {
   "cell_type": "code",
   "execution_count": 5,
   "metadata": {},
   "outputs": [],
   "source": [
    "import numpy as np\n",
    "data = np.load('oxflower17.npz')"
   ]
  },
  {
   "cell_type": "code",
   "execution_count": 6,
   "metadata": {},
   "outputs": [],
   "source": [
    "X= data['X']"
   ]
  },
  {
   "cell_type": "code",
   "execution_count": 7,
   "metadata": {},
   "outputs": [],
   "source": [
    "y = data['Y']"
   ]
  },
  {
   "cell_type": "code",
   "execution_count": 8,
   "metadata": {},
   "outputs": [
    {
     "data": {
      "text/plain": [
       "array([[[[0.19607843, 0.25882354, 0.15686275],\n",
       "         [0.18039216, 0.24313726, 0.13725491],\n",
       "         [0.15294118, 0.21568628, 0.10980392],\n",
       "         ...,\n",
       "         [0.12941177, 0.12156863, 0.12156863],\n",
       "         [0.13725491, 0.12941177, 0.14117648],\n",
       "         [0.14509805, 0.13725491, 0.14901961]],\n",
       "\n",
       "        [[0.1882353 , 0.2509804 , 0.15294118],\n",
       "         [0.1764706 , 0.23529412, 0.13333334],\n",
       "         [0.15686275, 0.21176471, 0.11372549],\n",
       "         ...,\n",
       "         [0.11372549, 0.10588235, 0.10588235],\n",
       "         [0.12941177, 0.12156863, 0.13333334],\n",
       "         [0.14117648, 0.13333334, 0.14509805]],\n",
       "\n",
       "        [[0.17254902, 0.22352941, 0.14901961],\n",
       "         [0.16078432, 0.21176471, 0.13333334],\n",
       "         [0.14901961, 0.19607843, 0.11372549],\n",
       "         ...,\n",
       "         [0.08627451, 0.07843138, 0.07843138],\n",
       "         [0.10588235, 0.09803922, 0.10980392],\n",
       "         [0.12156863, 0.11372549, 0.1254902 ]],\n",
       "\n",
       "        ...,\n",
       "\n",
       "        [[0.20784314, 0.2509804 , 0.32941177],\n",
       "         [0.20784314, 0.25490198, 0.3254902 ],\n",
       "         [0.20784314, 0.24313726, 0.31764707],\n",
       "         ...,\n",
       "         [0.19215687, 0.20784314, 0.21960784],\n",
       "         [0.18431373, 0.2       , 0.20784314],\n",
       "         [0.18431373, 0.2       , 0.20392157]],\n",
       "\n",
       "        [[0.16862746, 0.21176471, 0.2901961 ],\n",
       "         [0.16862746, 0.21176471, 0.28627452],\n",
       "         [0.16078432, 0.19607843, 0.27058825],\n",
       "         ...,\n",
       "         [0.20784314, 0.22352941, 0.23529412],\n",
       "         [0.2       , 0.21568628, 0.22352941],\n",
       "         [0.2       , 0.21568628, 0.21960784]],\n",
       "\n",
       "        [[0.16078432, 0.20392157, 0.28235295],\n",
       "         [0.15294118, 0.19607843, 0.27058825],\n",
       "         [0.15294118, 0.18431373, 0.25490198],\n",
       "         ...,\n",
       "         [0.21568628, 0.23137255, 0.24313726],\n",
       "         [0.21176471, 0.22745098, 0.23137255],\n",
       "         [0.20784314, 0.22352941, 0.22745098]]],\n",
       "\n",
       "\n",
       "       [[[0.37254903, 0.3372549 , 0.29803923],\n",
       "         [0.3647059 , 0.33333334, 0.30588236],\n",
       "         [0.30588236, 0.2901961 , 0.27058825],\n",
       "         ...,\n",
       "         [0.04313726, 0.07058824, 0.10980392],\n",
       "         [0.09019608, 0.10588235, 0.15686275],\n",
       "         [0.1254902 , 0.13333334, 0.19215687]],\n",
       "\n",
       "        [[0.46666667, 0.4       , 0.33333334],\n",
       "         [0.43529412, 0.3764706 , 0.32156864],\n",
       "         [0.4       , 0.35686275, 0.3137255 ],\n",
       "         ...,\n",
       "         [0.07450981, 0.10588235, 0.14117648],\n",
       "         [0.12156863, 0.14117648, 0.1882353 ],\n",
       "         [0.14509805, 0.14901961, 0.20784314]],\n",
       "\n",
       "        [[0.5764706 , 0.4745098 , 0.38431373],\n",
       "         [0.5294118 , 0.4392157 , 0.35686275],\n",
       "         [0.4392157 , 0.3647059 , 0.29803923],\n",
       "         ...,\n",
       "         [0.07058824, 0.09803922, 0.1254902 ],\n",
       "         [0.10980392, 0.12941177, 0.16862746],\n",
       "         [0.12941177, 0.13333334, 0.18431373]],\n",
       "\n",
       "        ...,\n",
       "\n",
       "        [[0.09803922, 0.13333334, 0.10196079],\n",
       "         [0.08627451, 0.1254902 , 0.09411765],\n",
       "         [0.08235294, 0.12156863, 0.09019608],\n",
       "         ...,\n",
       "         [0.01960784, 0.02745098, 0.02352941],\n",
       "         [0.03137255, 0.04313726, 0.03921569],\n",
       "         [0.03921569, 0.05882353, 0.05098039]],\n",
       "\n",
       "        [[0.09803922, 0.1254902 , 0.09803922],\n",
       "         [0.09019608, 0.11764706, 0.09019608],\n",
       "         [0.08627451, 0.11372549, 0.08627451],\n",
       "         ...,\n",
       "         [0.03921569, 0.03921569, 0.03921569],\n",
       "         [0.0627451 , 0.07843138, 0.07058824],\n",
       "         [0.07058824, 0.10196079, 0.09411765]],\n",
       "\n",
       "        [[0.09411765, 0.12156863, 0.09411765],\n",
       "         [0.08627451, 0.11372549, 0.08627451],\n",
       "         [0.08627451, 0.10980392, 0.08235294],\n",
       "         ...,\n",
       "         [0.06666667, 0.08235294, 0.07450981],\n",
       "         [0.07843138, 0.10196079, 0.09411765],\n",
       "         [0.07450981, 0.10588235, 0.09803922]]],\n",
       "\n",
       "\n",
       "       [[[0.3254902 , 0.3529412 , 0.4627451 ],\n",
       "         [0.34901962, 0.38039216, 0.47058824],\n",
       "         [0.39215687, 0.42745098, 0.49019608],\n",
       "         ...,\n",
       "         [0.20784314, 0.18431373, 0.34901962],\n",
       "         [0.18039216, 0.16862746, 0.3254902 ],\n",
       "         [0.1764706 , 0.16862746, 0.3254902 ]],\n",
       "\n",
       "        [[0.37254903, 0.4       , 0.50980395],\n",
       "         [0.38039216, 0.4117647 , 0.5058824 ],\n",
       "         [0.40392157, 0.43529412, 0.5058824 ],\n",
       "         ...,\n",
       "         [0.21960784, 0.18431373, 0.3254902 ],\n",
       "         [0.21568628, 0.17254902, 0.32156864],\n",
       "         [0.21960784, 0.17254902, 0.32156864]],\n",
       "\n",
       "        [[0.41960785, 0.44705883, 0.5647059 ],\n",
       "         [0.4392157 , 0.46666667, 0.57254905],\n",
       "         [0.45882353, 0.49019608, 0.5686275 ],\n",
       "         ...,\n",
       "         [0.2901961 , 0.23137255, 0.34117648],\n",
       "         [0.30980393, 0.23529412, 0.3529412 ],\n",
       "         [0.32156864, 0.23529412, 0.36078432]],\n",
       "\n",
       "        ...,\n",
       "\n",
       "        [[0.18431373, 0.1882353 , 0.23921569],\n",
       "         [0.1764706 , 0.18039216, 0.24705882],\n",
       "         [0.16470589, 0.17254902, 0.2509804 ],\n",
       "         ...,\n",
       "         [0.6784314 , 0.7254902 , 0.8117647 ],\n",
       "         [0.64705884, 0.7019608 , 0.7921569 ],\n",
       "         [0.654902  , 0.7137255 , 0.8039216 ]],\n",
       "\n",
       "        [[0.16862746, 0.16470589, 0.23137255],\n",
       "         [0.16078432, 0.15686275, 0.23529412],\n",
       "         [0.15294118, 0.15294118, 0.23529412],\n",
       "         ...,\n",
       "         [0.6666667 , 0.7058824 , 0.8039216 ],\n",
       "         [0.6392157 , 0.6862745 , 0.78039217],\n",
       "         [0.64705884, 0.6901961 , 0.7921569 ]],\n",
       "\n",
       "        [[0.15294118, 0.14117648, 0.22352941],\n",
       "         [0.14509805, 0.13333334, 0.22352941],\n",
       "         [0.14117648, 0.12941177, 0.22352941],\n",
       "         ...,\n",
       "         [0.6392157 , 0.6666667 , 0.7764706 ],\n",
       "         [0.6666667 , 0.7019608 , 0.8117647 ],\n",
       "         [0.6627451 , 0.7019608 , 0.8117647 ]]],\n",
       "\n",
       "\n",
       "       ...,\n",
       "\n",
       "\n",
       "       [[[0.47843137, 0.54901963, 0.1882353 ],\n",
       "         [0.5137255 , 0.5803922 , 0.26666668],\n",
       "         [0.49019608, 0.56078434, 0.28235295],\n",
       "         ...,\n",
       "         [0.3372549 , 0.3019608 , 0.65882355],\n",
       "         [0.41960785, 0.39215687, 0.6862745 ],\n",
       "         [0.50980395, 0.4862745 , 0.75686276]],\n",
       "\n",
       "        [[0.5254902 , 0.5529412 , 0.23921569],\n",
       "         [0.5568628 , 0.5882353 , 0.31764707],\n",
       "         [0.5254902 , 0.5686275 , 0.31764707],\n",
       "         ...,\n",
       "         [0.33333334, 0.3019608 , 0.64705884],\n",
       "         [0.4392157 , 0.4117647 , 0.7058824 ],\n",
       "         [0.54509807, 0.5254902 , 0.79607844]],\n",
       "\n",
       "        [[0.5372549 , 0.5294118 , 0.25882354],\n",
       "         [0.54509807, 0.5411765 , 0.30588236],\n",
       "         [0.5137255 , 0.53333336, 0.30980393],\n",
       "         ...,\n",
       "         [0.34901962, 0.3137255 , 0.67058825],\n",
       "         [0.44313726, 0.41568628, 0.73333335],\n",
       "         [0.56078434, 0.5372549 , 0.84313726]],\n",
       "\n",
       "        ...,\n",
       "\n",
       "        [[0.3254902 , 0.45882353, 0.01568628],\n",
       "         [0.32941177, 0.46666667, 0.00392157],\n",
       "         [0.4       , 0.5411765 , 0.05098039],\n",
       "         ...,\n",
       "         [0.58431375, 0.7137255 , 0.24313726],\n",
       "         [0.46666667, 0.6       , 0.19607843],\n",
       "         [0.39215687, 0.5294118 , 0.14509805]],\n",
       "\n",
       "        [[0.30980393, 0.44313726, 0.00392157],\n",
       "         [0.32156864, 0.45882353, 0.00392157],\n",
       "         [0.40392157, 0.54509807, 0.05490196],\n",
       "         ...,\n",
       "         [0.6666667 , 0.8117647 , 0.29803923],\n",
       "         [0.54509807, 0.6901961 , 0.25882354],\n",
       "         [0.3019608 , 0.44705883, 0.04705882]],\n",
       "\n",
       "        [[0.30588236, 0.4392157 , 0.        ],\n",
       "         [0.33333334, 0.47058824, 0.01176471],\n",
       "         [0.4       , 0.5411765 , 0.05490196],\n",
       "         ...,\n",
       "         [0.62352943, 0.8039216 , 0.21960784],\n",
       "         [0.627451  , 0.79607844, 0.28235295],\n",
       "         [0.45882353, 0.62352943, 0.14117648]]],\n",
       "\n",
       "\n",
       "       [[[0.5137255 , 0.56078434, 0.62352943],\n",
       "         [0.5137255 , 0.5568628 , 0.62352943],\n",
       "         [0.52156866, 0.5568628 , 0.62352943],\n",
       "         ...,\n",
       "         [0.56078434, 0.5568628 , 0.5882353 ],\n",
       "         [0.56078434, 0.5568628 , 0.5882353 ],\n",
       "         [0.56078434, 0.5568628 , 0.5882353 ]],\n",
       "\n",
       "        [[0.5058824 , 0.54509807, 0.60784316],\n",
       "         [0.50980395, 0.5411765 , 0.60784316],\n",
       "         [0.50980395, 0.5411765 , 0.60784316],\n",
       "         ...,\n",
       "         [0.57254905, 0.5647059 , 0.6039216 ],\n",
       "         [0.5764706 , 0.5686275 , 0.60784316],\n",
       "         [0.5764706 , 0.5686275 , 0.60784316]],\n",
       "\n",
       "        [[0.49803922, 0.5254902 , 0.59607846],\n",
       "         [0.49803922, 0.5254902 , 0.59607846],\n",
       "         [0.49803922, 0.5254902 , 0.59607846],\n",
       "         ...,\n",
       "         [0.58431375, 0.5764706 , 0.62352943],\n",
       "         [0.5882353 , 0.5803922 , 0.62352943],\n",
       "         [0.5882353 , 0.5803922 , 0.62352943]],\n",
       "\n",
       "        ...,\n",
       "\n",
       "        [[0.34117648, 0.41568628, 0.3019608 ],\n",
       "         [0.33333334, 0.40784314, 0.29411766],\n",
       "         [0.3137255 , 0.3882353 , 0.27450982],\n",
       "         ...,\n",
       "         [0.01176471, 0.01176471, 0.01176471],\n",
       "         [0.01176471, 0.01176471, 0.01176471],\n",
       "         [0.01176471, 0.01176471, 0.01176471]],\n",
       "\n",
       "        [[0.3529412 , 0.41960785, 0.3372549 ],\n",
       "         [0.34117648, 0.40784314, 0.3254902 ],\n",
       "         [0.3019608 , 0.37254903, 0.28627452],\n",
       "         ...,\n",
       "         [0.01176471, 0.01176471, 0.01176471],\n",
       "         [0.01960784, 0.01960784, 0.01960784],\n",
       "         [0.01960784, 0.01960784, 0.01960784]],\n",
       "\n",
       "        [[0.2901961 , 0.3529412 , 0.2901961 ],\n",
       "         [0.2784314 , 0.34509805, 0.2784314 ],\n",
       "         [0.2509804 , 0.31764707, 0.25490198],\n",
       "         ...,\n",
       "         [0.00784314, 0.00784314, 0.00784314],\n",
       "         [0.01568628, 0.01568628, 0.01568628],\n",
       "         [0.01568628, 0.01568628, 0.01568628]]],\n",
       "\n",
       "\n",
       "       [[[0.23921569, 0.43529412, 0.10588235],\n",
       "         [0.24705882, 0.44313726, 0.10196079],\n",
       "         [0.25490198, 0.45490196, 0.08627451],\n",
       "         ...,\n",
       "         [0.18431373, 0.31764707, 0.21960784],\n",
       "         [0.18431373, 0.3019608 , 0.20392157],\n",
       "         [0.18039216, 0.2901961 , 0.19215687]],\n",
       "\n",
       "        [[0.24705882, 0.44313726, 0.09411765],\n",
       "         [0.2509804 , 0.4509804 , 0.09411765],\n",
       "         [0.25490198, 0.45490196, 0.08235294],\n",
       "         ...,\n",
       "         [0.1882353 , 0.31764707, 0.22352941],\n",
       "         [0.19215687, 0.29803923, 0.20392157],\n",
       "         [0.18431373, 0.28627452, 0.1882353 ]],\n",
       "\n",
       "        [[0.24313726, 0.44705883, 0.07058824],\n",
       "         [0.24313726, 0.44705883, 0.07058824],\n",
       "         [0.24313726, 0.44705883, 0.06666667],\n",
       "         ...,\n",
       "         [0.1764706 , 0.29411766, 0.2       ],\n",
       "         [0.18039216, 0.28235295, 0.19215687],\n",
       "         [0.1764706 , 0.27058825, 0.18431373]],\n",
       "\n",
       "        ...,\n",
       "\n",
       "        [[0.09803922, 0.20784314, 0.05882353],\n",
       "         [0.10196079, 0.20784314, 0.07450981],\n",
       "         [0.07450981, 0.1764706 , 0.05882353],\n",
       "         ...,\n",
       "         [0.07058824, 0.13333334, 0.09019608],\n",
       "         [0.05882353, 0.12941177, 0.07450981],\n",
       "         [0.09019608, 0.15686275, 0.09803922]],\n",
       "\n",
       "        [[0.11372549, 0.21960784, 0.08235294],\n",
       "         [0.09411765, 0.2       , 0.07450981],\n",
       "         [0.07058824, 0.17254902, 0.0627451 ],\n",
       "         ...,\n",
       "         [0.08627451, 0.14509805, 0.10588235],\n",
       "         [0.09019608, 0.1764706 , 0.10980392],\n",
       "         [0.09803922, 0.19215687, 0.12156863]],\n",
       "\n",
       "        [[0.10196079, 0.22352941, 0.0627451 ],\n",
       "         [0.09803922, 0.20784314, 0.07843138],\n",
       "         [0.07843138, 0.17254902, 0.07058824],\n",
       "         ...,\n",
       "         [0.09411765, 0.16078432, 0.10588235],\n",
       "         [0.10588235, 0.20392157, 0.1254902 ],\n",
       "         [0.10588235, 0.21568628, 0.12941177]]]], dtype=float32)"
      ]
     },
     "execution_count": 8,
     "metadata": {},
     "output_type": "execute_result"
    }
   ],
   "source": [
    "X"
   ]
  },
  {
   "cell_type": "code",
   "execution_count": 9,
   "metadata": {},
   "outputs": [
    {
     "data": {
      "text/plain": [
       "(1360, 17)"
      ]
     },
     "execution_count": 9,
     "metadata": {},
     "output_type": "execute_result"
    }
   ],
   "source": [
    "y.shape"
   ]
  },
  {
   "cell_type": "code",
   "execution_count": 10,
   "metadata": {},
   "outputs": [
    {
     "data": {
      "text/plain": [
       "array([[0., 0., 1., ..., 0., 0., 0.],\n",
       "       [1., 0., 0., ..., 0., 0., 0.],\n",
       "       [0., 0., 0., ..., 0., 0., 0.],\n",
       "       ...,\n",
       "       [0., 0., 0., ..., 0., 0., 0.],\n",
       "       [0., 0., 0., ..., 0., 0., 1.],\n",
       "       [0., 0., 0., ..., 1., 0., 0.]])"
      ]
     },
     "execution_count": 10,
     "metadata": {},
     "output_type": "execute_result"
    }
   ],
   "source": [
    "y"
   ]
  },
  {
   "cell_type": "code",
   "execution_count": 11,
   "metadata": {},
   "outputs": [],
   "source": [
    "x_train = X.astype('float64')/255.0"
   ]
  },
  {
   "cell_type": "code",
   "execution_count": 12,
   "metadata": {},
   "outputs": [],
   "source": [
    "y_train = y"
   ]
  },
  {
   "cell_type": "code",
   "execution_count": 13,
   "metadata": {},
   "outputs": [
    {
     "data": {
      "text/plain": [
       "((1360, 224, 224, 3), (1360, 17))"
      ]
     },
     "execution_count": 13,
     "metadata": {},
     "output_type": "execute_result"
    }
   ],
   "source": [
    "x_train.shape, y_train.shape"
   ]
  },
  {
   "cell_type": "code",
   "execution_count": 14,
   "metadata": {},
   "outputs": [],
   "source": [
    "model.compile(optimizer='adam', loss = 'categorical_crossentropy', metrics = ['accuracy'])"
   ]
  },
  {
   "cell_type": "code",
   "execution_count": null,
   "metadata": {},
   "outputs": [],
   "source": [
    "model.fit(x_train, y_train, batch_size = 64, epochs = 5, verbose = 1, validation_split = 0.2, shuffle = True)"
   ]
  },
  {
   "cell_type": "code",
   "execution_count": null,
   "metadata": {},
   "outputs": [],
   "source": [
    "from keras.applications.vgg16 import VGG16, preprocess_input\n",
    "from keras.models import Sequential\n",
    "from keras.layers import Dropout\n",
    "\n",
    "base_model = VGG16(weights = 'imagenet', include_top = False, input_shape = (224,224,3))\n",
    "\n",
    "epochs=5\n",
    "verbose = 1\n",
    "\n",
    "for layers in base_model.layers:\n",
    "    layers.trainable = False\n",
    "    \n",
    "model = Sequential()\n",
    "\n",
    "model.add(base_model)\n",
    "\n",
    "model.add(Flatten())\n",
    "model.add(Dense(256, activation='relu'))\n",
    "model.add(Dropout(0.5))\n",
    "model.add(Dense(17, activation='softmax'))\n",
    "\n",
    "model.compile(optimizer='adam', loss = 'categorical_crossentropy', metrics = ['accuracy'])\n",
    "\n",
    "model.fit(x_train, y_train, epochs = 5)"
   ]
  },
  {
   "cell_type": "code",
   "execution_count": null,
   "metadata": {},
   "outputs": [],
   "source": []
  }
 ],
 "metadata": {
  "kernelspec": {
   "display_name": "Python 3",
   "language": "python",
   "name": "python3"
  },
  "language_info": {
   "codemirror_mode": {
    "name": "ipython",
    "version": 3
   },
   "file_extension": ".py",
   "mimetype": "text/x-python",
   "name": "python",
   "nbconvert_exporter": "python",
   "pygments_lexer": "ipython3",
   "version": "3.12.7"
  }
 },
 "nbformat": 4,
 "nbformat_minor": 2
}
